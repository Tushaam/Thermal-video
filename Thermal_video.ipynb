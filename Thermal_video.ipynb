{
 "cells": [
  {
   "cell_type": "code",
   "execution_count": 21,
   "id": "79f7e958-9359-426e-baf6-0ffa5a75c79b",
   "metadata": {},
   "outputs": [],
   "source": [
    "import cv2\n",
    "\n",
    "capture = cv2.VideoCapture(\"C:\\\\Users\\\\tusha\\\\Downloads\\\\1705951007967.mp4\")\n"
   ]
  },
  {
   "cell_type": "markdown",
   "id": "0f8c9fcf-970a-40cb-830d-1278908c4281",
   "metadata": {},
   "source": [
    "We have loaded the thermal video frame into the variable capture \n",
    "\n",
    "Now we will display the video using a while loop which is just capturing the video frame by frame"
   ]
  },
  {
   "cell_type": "code",
   "execution_count": 22,
   "id": "d348dfd8-be38-4f8c-b263-566a70a2f3ff",
   "metadata": {},
   "outputs": [],
   "source": [
    "while True:\n",
    "    isTrue, frame = capture.read()\n",
    "    cv2.imshow(\"Video\", frame)\n",
    "    if cv2.waitKey(20) & 0xFF == ord(\"t\"):\n",
    "        break\n",
    "\n",
    "capture.release()\n",
    "cv2.destroyAllWindows()"
   ]
  },
  {
   "cell_type": "markdown",
   "id": "83320875-cd82-4367-9dbe-8fe22380f2dc",
   "metadata": {},
   "source": [
    "Since image processing is EASIER when images/videos are in grayscale format , we will perform the grascaling operation on this thermal video"
   ]
  },
  {
   "cell_type": "code",
   "execution_count": 23,
   "id": "41818114-1cfe-4a7c-a6ad-e8ee9a4c726f",
   "metadata": {},
   "outputs": [],
   "source": [
    "capture = cv2.VideoCapture(\"C:\\\\Users\\\\tusha\\\\Downloads\\\\1705951007967.mp4\")\n",
    "while True:\n",
    "    isTrue, frame = capture.read()\n",
    "    gray_vid=cv2.cvtColor(frame, cv2.COLOR_BGR2GRAY)\n",
    "    cv2.imshow(\"frame\", gray_vid)\n",
    "    if cv2.waitKey(1) & 0xFF == ord(\"t\"):\n",
    "        break\n",
    "\n",
    "capture.release()\n",
    "cv2.destroyAllWindows()\n"
   ]
  },
  {
   "cell_type": "code",
   "execution_count": 18,
   "id": "f5b93e69-9349-4225-84bf-1eef5efd97a1",
   "metadata": {},
   "outputs": [],
   "source": [
    "capture = cv2.VideoCapture(\"C:\\\\Users\\\\tusha\\\\Downloads\\\\1705951007967.mp4\")\n",
    "while True:\n",
    "    isTrue, frame = capture.read()\n",
    "    canny=cv2.Canny(frame,100,100)\n",
    "    cv2.imshow(\"Canny Edges\", canny)\n",
    "    if cv2.waitKey(1) & 0xFF == ord(\"t\"):\n",
    "        break"
   ]
  },
  {
   "cell_type": "code",
   "execution_count": 27,
   "id": "a882d027-be26-4087-abc6-685dce3415ac",
   "metadata": {},
   "outputs": [],
   "source": [
    "import numpy as np\n",
    "dft = cv2.dft(np.float32(gray_vid), flags=cv2.DFT_COMPLEX_OUTPUT)\n",
    "dft_shift = np.fft.fftshift(dft)\n",
    "magnitude_spectrum = 20 * np.log(cv2.magnitude(dft_shift[:, :, 0], dft_shift[:, :, 1]))"
   ]
  },
  {
   "cell_type": "markdown",
   "id": "c6097bf4-c6e4-45fb-97e6-aa3b9f31b043",
   "metadata": {},
   "source": [
    "The term dft means Discrete Fourier Transform THIS IS DONE TO CONVERT EACH FRAME TO ITS FREQUENCY RANGE"
   ]
  },
  {
   "cell_type": "code",
   "execution_count": null,
   "id": "0e0009f1-63c8-488d-a984-e193cd8e3c81",
   "metadata": {},
   "outputs": [],
   "source": []
  }
 ],
 "metadata": {
  "kernelspec": {
   "display_name": "Python 3 (ipykernel)",
   "language": "python",
   "name": "python3"
  },
  "language_info": {
   "codemirror_mode": {
    "name": "ipython",
    "version": 3
   },
   "file_extension": ".py",
   "mimetype": "text/x-python",
   "name": "python",
   "nbconvert_exporter": "python",
   "pygments_lexer": "ipython3",
   "version": "3.11.5"
  }
 },
 "nbformat": 4,
 "nbformat_minor": 5
}
